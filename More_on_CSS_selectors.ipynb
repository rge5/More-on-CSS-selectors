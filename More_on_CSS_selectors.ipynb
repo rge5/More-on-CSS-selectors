{
  "nbformat": 4,
  "nbformat_minor": 0,
  "metadata": {
    "colab": {
      "provenance": []
    },
    "kernelspec": {
      "name": "python3",
      "display_name": "Python 3"
    },
    "language_info": {
      "name": "python"
    }
  },
  "cells": [
    {
      "cell_type": "code",
      "execution_count": null,
      "metadata": {
        "id": "P3EHTSnWrpVP"
      },
      "outputs": [],
      "source": [
        "1.  For the given index.html file. Perform the following task, without changing the index.html file."
      ]
    },
    {
      "cell_type": "markdown",
      "source": [
        "A.  Create a CSS file to apply styles to the HTML element, and link it"
      ],
      "metadata": {
        "id": "87qYPc63rvJX"
      }
    },
    {
      "cell_type": "code",
      "source": [
        "<!DOCTYPE html>\n",
        "<html lang=\"en\">\n",
        "<head>\n",
        "  <meta charset=\"UTF-8\" />\n",
        "  <meta name=\"viewport\" content=\"width=device-width, initial-scale=1.0\" />\n",
        "  <title>Test</title>\n",
        "  <link rel=\"stylesheet\" href=\"task_1.css\">\n",
        "</head>\n",
        "<body>\n",
        "  <header>\n",
        "    <nav>\n",
        "      <h2>TOI</h2>\n",
        "      <div>\n",
        "        <h2>Menu</h2>\n",
        "        <ul>\n",
        "          <li><a href=\"#\" target=\"_blank\">Home</a></li>\n",
        "          <li><a href=\"#\" class=\"active\" target=\"_self\">About</a></li>\n",
        "          <li><a href=\"#\" target=\"_blank\">Services</a></li>\n",
        "          <li><a href=\"#\" target=\"_blank\">Contact</a></li>\n",
        "        </ul>\n",
        "      </div>\n",
        "\n",
        "      <p>The times of India</p>\n",
        "      <p>\n",
        "        Lorem ipsum dolor sit amet consectetur adipisicing elit. Consequatur,\n",
        "        maxime a. Deserunt distinctio doloremque repudiandae excepturi fugit\n",
        "        repellat nostrum culpa!\n",
        "      </p>\n",
        "\n",
        "      <p>read articles</p>\n",
        "    </nav>\n",
        "  </header>\n",
        "</body>\n",
        "</html>\n"
      ],
      "metadata": {
        "id": "qKpt55hgryAw"
      },
      "execution_count": null,
      "outputs": []
    },
    {
      "cell_type": "markdown",
      "source": [
        "B.  Using the combinator selector, perform the following task\n",
        "* Use any of the CSS combinator selectors to target all the anchor tags and change the text color to red\n",
        "* Target only the first <h2> tag and change the text and background color using the combinator selectol\n",
        "* Also, select the first <p> tag and change the text color to red."
      ],
      "metadata": {
        "id": "JpgwRXg2r-j-"
      }
    },
    {
      "cell_type": "code",
      "source": [
        "html\n",
        "\n",
        "<!DOCTYPE html>\n",
        "<html lang=\"en\">\n",
        "<head>\n",
        "  <meta charset=\"UTF-8\" />\n",
        "  <meta name=\"viewport\" content=\"width=device-width, initial-scale=1.0\" />\n",
        "  <title>Test</title>\n",
        "  <link rel=\"stylesheet\" href=\"task_1.css\">\n",
        "</head>\n",
        "<body>\n",
        "  <header>\n",
        "    <nav>\n",
        "      <h2>TOI</h2>\n",
        "      <div>\n",
        "        <h2>Menu</h2>\n",
        "        <ul>\n",
        "          <li><a href=\"#\" target=\"_blank\">Home</a></li>\n",
        "          <li><a href=\"#\" class=\"active\" target=\"_self\">About</a></li>\n",
        "          <li><a href=\"#\" target=\"_blank\">Services</a></li>\n",
        "          <li><a href=\"#\" target=\"_blank\">Contact</a></li>\n",
        "        </ul>\n",
        "      </div>\n",
        "\n",
        "      <p>The times of India</p>\n",
        "      <p>\n",
        "        Lorem ipsum dolor sit amet consectetur adipisicing elit. Consequatur,\n",
        "        maxime a. Deserunt distinctio doloremque repudiandae excepturi fugit\n",
        "        repellat nostrum culpa!\n",
        "      </p>\n",
        "\n",
        "      <p>read articles</p>\n",
        "    </nav>\n",
        "  </header>\n",
        "</body>\n",
        "</html>\n",
        "\n",
        "\n",
        "CSS\n",
        "\n",
        "div a{\n",
        "    color: red;\n",
        "}\n",
        "p{\n",
        "    color: red;\n",
        "}\n",
        "nav > h2{\n",
        "    background-color: green;\n",
        "}"
      ],
      "metadata": {
        "id": "_tuu6wnpsC2n"
      },
      "execution_count": null,
      "outputs": []
    },
    {
      "cell_type": "markdown",
      "source": [
        "c.  Using the attribute selector, perform the following\n",
        "* target the anchor tag with attribute \"href\" and change color to red and remove the text underline\n",
        "* Target the anchor tag with the attribute of class name “active”, change the text color, and provide the text\n",
        "style properties with underlining\n",
        "* Target the anchor tag with the attribute of the target whose value is “_self” and change the background\n",
        "color.\n",
        "\n"
      ],
      "metadata": {
        "id": "w75j7igDsOSS"
      }
    },
    {
      "cell_type": "code",
      "source": [
        "HTML\n",
        "<!DOCTYPE html>\n",
        "<html lang=\"en\">\n",
        "<head>\n",
        "  <meta charset=\"UTF-8\" />\n",
        "  <meta name=\"viewport\" content=\"width=device-width, initial-scale=1.0\" />\n",
        "  <title>Test</title>\n",
        "  <link rel=\"stylesheet\" href=\"task_1.css\">\n",
        "</head>\n",
        "<body>\n",
        "  <header>\n",
        "    <nav>\n",
        "      <h2>TOI</h2>\n",
        "      <div>\n",
        "        <h2>Menu</h2>\n",
        "        <ul>\n",
        "          <li><a href=\"#\" target=\"_blank\">Home</a></li>\n",
        "          <li><a href=\"#\" class=\"active\" target=\"_self\">About</a></li>\n",
        "          <li><a href=\"#\" target=\"_blank\">Services</a></li>\n",
        "          <li><a href=\"#\" target=\"_blank\">Contact</a></li>\n",
        "        </ul>\n",
        "      </div>\n",
        "\n",
        "      <p>The times of India</p>\n",
        "      <p>\n",
        "        Lorem ipsum dolor sit amet consectetur adipisicing elit. Consequatur,\n",
        "        maxime a. Deserunt distinctio doloremque repudiandae excepturi fugit\n",
        "        repellat nostrum culpa!\n",
        "      </p>\n",
        "\n",
        "      <p>read articles</p>\n",
        "    </nav>\n",
        "  </header>\n",
        "</body>\n",
        "</html>\n",
        "\n",
        "\n",
        "\n",
        "CSS\n",
        "\n",
        "a[href]{\n",
        "    color: red;\n",
        "    text-decoration: none;\n",
        "}\n",
        "a[class=\"active\"] {\n",
        "  color: blue;\n",
        "  text-decoration: underline;\n",
        "  font-weight: bold; /* Optional for emphasis */\n",
        "}\n",
        "a[target=\"_self\"] {\n",
        "  background-color: yellow;\n",
        "}"
      ],
      "metadata": {
        "id": "Wy-rSSnvsVjN"
      },
      "execution_count": null,
      "outputs": []
    },
    {
      "cell_type": "markdown",
      "source": [
        "D. Using the Pseudo selectors, perform the following tas\n",
        "* Target the last <p> tag and add “...” i.e. three dots after its valuÆ\n",
        "* Target the list of bullet points and change the color of the bullet points without changing the list item's value\n",
        "* Among the three <p> tags target the 2nd <p> tag, select the first letter of the second <p> tag, and change the color to red Also increase the font size to 30px"
      ],
      "metadata": {
        "id": "daYWrxsvxUwb"
      }
    },
    {
      "cell_type": "code",
      "source": [
        "HTML\n",
        "\n",
        "<!DOCTYPE html>\n",
        "<html lang=\"en\">\n",
        "<head>\n",
        "  <meta charset=\"UTF-8\" />\n",
        "  <meta name=\"viewport\" content=\"width=device-width, initial-scale=1.0\" />\n",
        "  <title>Test</title>\n",
        "  <link rel=\"stylesheet\" href=\"task_1.css\">\n",
        "</head>\n",
        "<body>\n",
        "  <header>\n",
        "    <nav>\n",
        "      <h2>TOI</h2>\n",
        "      <div>\n",
        "        <h2>Menu</h2>\n",
        "        <ul>\n",
        "          <li><a href=\"#\" target=\"_blank\">Home</a></li>\n",
        "          <li><a href=\"#\" class=\"active\" target=\"_self\">About</a></li>\n",
        "          <li><a href=\"#\" target=\"_blank\">Services</a></li>\n",
        "          <li><a href=\"#\" target=\"_blank\">Contact</a></li>\n",
        "        </ul>\n",
        "      </div>\n",
        "\n",
        "      <p>The times of India</p>\n",
        "      <p>\n",
        "        Lorem ipsum dolor sit amet consectetur adipisicing elit. Consequatur,\n",
        "        maxime a. Deserunt distinctio doloremque repudiandae excepturi fugit\n",
        "        repellat nostrum culpa!\n",
        "      </p>\n",
        "\n",
        "      <p>read articles</p>\n",
        "    </nav>\n",
        "  </header>\n",
        "</body>\n",
        "</html>\n",
        "\n",
        "\n",
        "css\n",
        "\n",
        "p:last-of-type::after {\n",
        "  content: \"...\";\n",
        "}\n",
        "li::marker {\n",
        "  color: green;\n",
        "}\n",
        "p:nth-of-type(2)::first-letter {\n",
        "  color: red;\n",
        "  font-size: 30px;\n",
        "}\n"
      ],
      "metadata": {
        "id": "ZiW4kyeBy1iD"
      },
      "execution_count": null,
      "outputs": []
    },
    {
      "cell_type": "markdown",
      "source": [
        "2.  Create a CSS file and link it to the provided HTML file below, use any of the combinator class selectors to\n",
        "style the navigation menu as follows -"
      ],
      "metadata": {
        "id": "TI8pUBEQy2ob"
      }
    },
    {
      "cell_type": "code",
      "source": [
        "from types import ClassMethodDescriptorType\n",
        "HTML\n",
        "\n",
        "<!DOCTYPE html>\n",
        "<html lang=\"en\">\n",
        "<head>\n",
        "  <meta charset=\"UTF-8\" />\n",
        "  <meta name=\"viewport\" content=\"width=device-width, initial-scale=1.0\" />\n",
        "  <title>Styled Navigation Menu</title>\n",
        "  <link rel=\"stylesheet\" href=\"task_2.css\" />\n",
        "</head>\n",
        "<body>\n",
        "  <header>\n",
        "    <nav>\n",
        "      <ul>\n",
        "        <li><a href=\"#\">Home</a></li>\n",
        "        <li><a href=\"#\">About</a></li>\n",
        "        <li><a href=\"#\">Services</a></li>\n",
        "        <li><a href=\"#\">Portfolio</a></li>\n",
        "        <li><a href=\"#\">Contact</a></li>\n",
        "      </ul>\n",
        "    </nav>\n",
        "  </header>\n",
        "  <main>\n",
        "    <!-- Your content here -->\n",
        "  </main>\n",
        "</body>\n",
        "</html>\n",
        "\n",
        "\n",
        " CSS\n",
        "\n",
        " nav ul li{\n",
        "     list-style-type:none;\n",
        "     a{\n",
        "         text-decoration: none;\n",
        "     }\n",
        "}\n",
        "\n",
        "nav > ul >li{\n",
        "    display: inline;\n",
        "}\n",
        "\n",
        "nav ul li+li {\n",
        "    margin-left: 20px;\n",
        "}"
      ],
      "metadata": {
        "id": "h7ynYRpty-4G"
      },
      "execution_count": null,
      "outputs": []
    },
    {
      "cell_type": "markdown",
      "source": [
        "3. Using any of the Pseudo element selectors, add any random words after and before the given HTML tag"
      ],
      "metadata": {
        "id": "01aiUccW1lr1"
      }
    },
    {
      "cell_type": "code",
      "source": [
        "h1::before {\n",
        "  content: \"Pseudo - \";\n",
        "}\n",
        "\n",
        "h1::after {\n",
        "  content: \" - selector\";\n",
        "}\n"
      ],
      "metadata": {
        "id": "plgKoTrZ2N53"
      },
      "execution_count": null,
      "outputs": []
    },
    {
      "cell_type": "markdown",
      "source": [
        "4.  Using any of the Pseudo element selectors, add any random words after and before the given HTML tag."
      ],
      "metadata": {
        "id": "4J7xotNL2PDj"
      }
    },
    {
      "cell_type": "code",
      "source": [
        "HTML\n",
        "\n",
        "<!DOCTYPE html>\n",
        "<html lang=\"en\">\n",
        "<head>\n",
        "  <meta charset=\"UTF-8\" />\n",
        "  <meta name=\"viewport\" content=\"width=device-width, initial-scale=1.0\" />\n",
        "  <title>Button Styling</title>\n",
        "  <link rel=\"stylesheet\" href=\"styles.css\" />\n",
        "</head>\n",
        "<body>\n",
        "  <button class=\"styled-btn\">PW Skills</button>\n",
        "</body>\n",
        "</html>\n",
        "\n",
        "\n",
        "CSS\n",
        ".styled-btn {\n",
        "  background-color: #3b82f6; /* Blue */\n",
        "  color: white;\n",
        "  padding: 12px 24px;\n",
        "  border: none;\n",
        "  border-radius: 12px;\n",
        "  font-size: 18px;\n",
        "  position: relative;\n",
        "  transition: all 0.3s ease;\n",
        "}\n",
        "\n",
        "/* Add pseudo-elements before and after */\n",
        ".styled-btn::before {\n",
        "  content: \">> \";\n",
        "}\n",
        "\n",
        ".styled-btn::after {\n",
        "  content: \" <<\";\n",
        "}\n",
        "\n",
        "/* Hover effects */\n",
        ".styled-btn:hover {\n",
        "  background-color: #2563eb; /* Darker Blue */\n",
        "  box-shadow: 5px 5px 15px rgba(0, 0, 0, 0.3);\n",
        "  cursor: pointer;\n",
        "}\n"
      ],
      "metadata": {
        "id": "83CKigEW2hxx"
      },
      "execution_count": null,
      "outputs": []
    }
  ]
}